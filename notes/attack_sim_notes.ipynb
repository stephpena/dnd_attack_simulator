{
 "cells": [
  {
   "cell_type": "code",
   "execution_count": 1,
   "metadata": {
    "collapsed": true
   },
   "outputs": [],
   "source": [
    "import numpy as np"
   ]
  },
  {
   "cell_type": "code",
   "execution_count": 57,
   "metadata": {
    "collapsed": false
   },
   "outputs": [],
   "source": [
    "def check_for_crit(atk_roll):\n",
    "    if atk_roll == 20:\n",
    "        is_crit = 1\n",
    "    else:\n",
    "        is_crit = 0\n",
    "    return is_crit\n",
    "\n",
    "def roll_for_attack(atk_bonus):\n",
    "    atk_roll = np.random.randint(1,high=21)\n",
    "    atk_total = atk_roll + atk_bonus\n",
    "    is_crit = check_for_crit(atk_roll)\n",
    "    atk_output = np.array([atk_total,is_crit])\n",
    "    return atk_output\n",
    "\n",
    "def roll_with_advantage(atk_bonus):\n",
    "    atk_1 = roll_for_attack(atk_bonus)\n",
    "    atk_2 = roll_for_attack(atk_bonus)\n",
    "    atk_rolls = np.array([atk_1,atk_2])\n",
    "    order_rolls = atk_rolls[atk_rolls[:,0].argsort()]\n",
    "    adv_roll = order_rolls[-1]\n",
    "    return adv_roll\n",
    "\n",
    "def get_attack_roll(atk_bonus,has_adv=bool(np.random.randint(2))):\n",
    "    if has_adv == True:\n",
    "        atk_output = roll_with_advantage(atk_bonus)\n",
    "    else:\n",
    "        atk_output = roll_for_attack(atk_bonus)\n",
    "    return atk_output\n",
    "\n",
    "def get_atk_roll_outcome(atk_output):\n",
    "    if atk_output[1] == 1:\n",
    "        atk_outcome = 2\n",
    "    elif atk_output[0] >= 15:\n",
    "        atk_outcome = 1\n",
    "    else:\n",
    "        atk_outcome = 0\n",
    "    return atk_outcome\n",
    "\n",
    "def check_for_sneak_attack(atk_output):\n",
    "    if atk_output == 1:\n",
    "        sneak_atk_output = np.random.randint(2)\n",
    "    else:\n",
    "        sneak_atk_output = atk_output\n",
    "    return sneak_atk_output\n",
    "\n",
    "def roll_dice(num_rolls,num_sides):\n",
    "    total = 0\n",
    "    for i in range(num_rolls):\n",
    "        total += np.random.randint(1,high=num_sides+1)\n",
    "    return total\n",
    "\n",
    "def roll_for_damage(atk_output,atk_dice,sneak_atk_output,sneak_atk_dice,dmg_bonus=5):\n",
    "    if atk_output == 2:\n",
    "        atk_total = roll_dice(atk_dice[0]*2,atk_dice[1])\n",
    "        sneak_total = roll_dice(sneak_atk_dice[0]*2,sneak_atk_dice[1])\n",
    "        dmg_total = atk_total + sneak_total + dmg_bonus\n",
    "    elif atk_output == 1 and sneak_atk_output == 1:\n",
    "        atk_total = roll_dice(atk_dice[0],atk_dice[1])\n",
    "        sneak_total = roll_dice(sneak_atk_dice[0],sneak_atk_dice[1])\n",
    "        dmg_total = atk_total + sneak_total + dmg_bonus\n",
    "    elif atk_output == 1 and sneak_atk_output == 0:\n",
    "        atk_total = roll_dice(atk_dice[0],atk_dice[1])\n",
    "        dmg_total = atk_total + dmg_bonus\n",
    "    else:\n",
    "        dmg_total = 0\n",
    "    return dmg_total"
   ]
  },
  {
   "cell_type": "code",
   "execution_count": 68,
   "metadata": {
    "collapsed": true
   },
   "outputs": [],
   "source": [
    "def roll_two_attacks(atk_die_1,atk_die_2,sneak_atk_die,atk_bonus=7,dmg_bonus=5):\n",
    "    roll = get_attack_roll(atk_bonus)\n",
    "    atk_roll_1 = get_atk_roll_outcome(roll)\n",
    "    sneak_atk = check_for_sneak_attack(atk_roll_1)\n",
    "    atk_roll_2 = get_atk_roll_outcome(get_attack_roll(atk_bonus))\n",
    "    dmg_roll_1 = roll_for_damage(atk_roll_1,atk_die_1,sneak_atk,sneak_atk_die)\n",
    "    if sneak_atk == 0:\n",
    "        sneak_atk = check_for_sneak_attack(atk_roll_2)\n",
    "    dmg_roll_2 = roll_for_damage(atk_roll_2,atk_die_2,sneak_atk,sneak_atk_die,dmg_bonus=0)\n",
    "    return dmg_roll_1 + dmg_roll_2"
   ]
  },
  {
   "cell_type": "code",
   "execution_count": 141,
   "metadata": {
    "collapsed": false
   },
   "outputs": [],
   "source": [
    "def simulate_attacks(atk_1,atk_2,sneak_atk,num_rolls=100):\n",
    "    dmg_sum = 0\n",
    "    i = 0\n",
    "    for x in xrange(num_rolls):\n",
    "        dmg_sum += roll_two_attacks(atk_1,atk_2,sneak_atk)\n",
    "        i += 1\n",
    "    avg_dmg = dmg_sum / i\n",
    "    return avg_dmg"
   ]
  },
  {
   "cell_type": "code",
   "execution_count": 149,
   "metadata": {
    "collapsed": false
   },
   "outputs": [
    {
     "name": "stdout",
     "output_type": "stream",
     "text": [
      "21\n",
      "20\n",
      "19\n",
      "19\n"
     ]
    }
   ],
   "source": [
    "print simulate_attacks([1,8],[1,8],[2,6],num_rolls=10000)\n",
    "print simulate_attacks([1,8],[1,6],[2,6],num_rolls=10000)\n",
    "print simulate_attacks([1,6],[1,6],[2,6],num_rolls=10000)\n",
    "print simulate_attacks([1,6],[1,4],[2,6],num_rolls=10000)"
   ]
  },
  {
   "cell_type": "code",
   "execution_count": null,
   "metadata": {
    "collapsed": true
   },
   "outputs": [],
   "source": []
  }
 ],
 "metadata": {
  "anaconda-cloud": {},
  "kernelspec": {
   "display_name": "Python [conda root]",
   "language": "python",
   "name": "conda-root-py"
  },
  "language_info": {
   "codemirror_mode": {
    "name": "ipython",
    "version": 2
   },
   "file_extension": ".py",
   "mimetype": "text/x-python",
   "name": "python",
   "nbconvert_exporter": "python",
   "pygments_lexer": "ipython2",
   "version": "2.7.12"
  }
 },
 "nbformat": 4,
 "nbformat_minor": 1
}
